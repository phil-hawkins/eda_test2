{
 "cells": [
  {
   "cell_type": "markdown",
   "metadata": {},
   "source": [
    "## Snowflake Query\n",
    "\n",
    "Note that there are some limitations in using the Snowflake connector from inside a container:\n",
    "1. The first connection attempt after opening the container will occasionally hang at the browser redirection page. If this happens 'Interrupt' the execution and try again.\n",
    "2. Sometimes during authentication, the browser will redirect to an error at a localhost page. This is caused by a race condition between the authentication and the container port forwarding. You can do as above and retry until it works. Alternatively you can open the `Terminal` panel, look at the `PORTS` tab and wait until the port is autoforwarded then retry the address in the browser.\n",
    "\n",
    "Here we do a simple query to fetch data from Snowflake into a pandas dataframe using a helper function `query_to_pandas` for convinience.\n"
   ]
  },
  {
   "cell_type": "code",
   "execution_count": null,
   "metadata": {},
   "outputs": [],
   "source": [
    "from np_exploration_python.snowflake import query_to_pandas\n",
    "\n",
    "df = query_to_pandas(\"select * from marketing.np_gth_features_leg limit 1000\")\n",
    "\n",
    "df"
   ]
  },
  {
   "cell_type": "markdown",
   "metadata": {},
   "source": [
    "## Lower-level Snowflake Access\n",
    "\n",
    "We can also work with the [Snowflake Python Connector API](https://docs.snowflake.com/en/user-guide/python-connector-api.html#) directly when low-level control is needed. For example, in order to:\n",
    "- Change the connection properties.\n",
    "- Use cursors to execute SQL statements other than queries.\n",
    "- Reuse the connection (`ctx` in this example) to execute multiple sql statements.\n",
    "- Query larger sets of data in batches by using [fetch_pandas_batches()](https://docs.snowflake.com/en/user-guide/python-connector-api.html#fetch_pandas_batches) instead of fetch_pandas_all().\n",
    "\n",
    "Here we use the API to execute the same query as in the cell above."
   ]
  },
  {
   "cell_type": "code",
   "execution_count": null,
   "metadata": {},
   "outputs": [],
   "source": [
    "import snowflake.connector\n",
    "from np_exploration_python.vscode_settings import VSCodeSettings\n",
    "\n",
    "\n",
    "config_dict = VSCodeSettings().get_snowflake_connection_config()\n",
    "ctx = snowflake.connector.connect(**config_dict)\n",
    "\n",
    "cs = ctx.cursor()\n",
    "try:\n",
    "    # Execute a statement that will generate a result set.\n",
    "    sql = \"select * from marketing.np_gth_features_leg limit 1000\"\n",
    "    cs.execute(sql)\n",
    "\n",
    "    # Fetch the result set from the cursor and deliver it as the Pandas DataFrame.\n",
    "    df = cs.fetch_pandas_all()\n",
    "finally:\n",
    "    cs.close()\n",
    "ctx.close()\n",
    "\n",
    "df.head()"
   ]
  },
  {
   "cell_type": "markdown",
   "metadata": {},
   "source": [
    "Pulling down a large dataset can be time consuming so you may want to cache the data locally for later use.\n",
    "\n",
    "Here we dump the features to a compressed file."
   ]
  },
  {
   "cell_type": "code",
   "execution_count": null,
   "metadata": {},
   "outputs": [],
   "source": [
    "import pyarrow.feather as feather\n",
    "\n",
    "feather.write_feather(df, 'feature.data')\n",
    "del df"
   ]
  },
  {
   "cell_type": "markdown",
   "metadata": {},
   "source": [
    "Simple data access using cached data when available."
   ]
  },
  {
   "cell_type": "code",
   "execution_count": null,
   "metadata": {},
   "outputs": [],
   "source": [
    "from pathlib import Path\n",
    "from np_exploration_python.snowflake import query_to_pandas\n",
    "\n",
    "if Path('feature.data').is_file():\n",
    "    print(\"Reading cached data\")\n",
    "    df = feather.read_feather('feature.data')\n",
    "else:\n",
    "    print(\"Connecting to data warehouse\")\n",
    "    df = query_to_pandas(\"select * from marketing.np_gth_features_leg limit 1000\")\n",
    "\n",
    "df.head()"
   ]
  }
 ],
 "metadata": {
  "kernelspec": {
   "display_name": "Python 3.9.6 ('np-exploration-python-PSNYYbGO-py3.9')",
   "language": "python",
   "name": "python3"
  },
  "language_info": {
   "codemirror_mode": {
    "name": "ipython",
    "version": 3
   },
   "file_extension": ".py",
   "mimetype": "text/x-python",
   "name": "python",
   "nbconvert_exporter": "python",
   "pygments_lexer": "ipython3",
   "version": "3.9.6"
  },
  "orig_nbformat": 4,
  "vscode": {
   "interpreter": {
    "hash": "f11764bae3456e8066f11d36c19bb5b626d750d4fac6ab6c07ec1358c596f31a"
   }
  }
 },
 "nbformat": 4,
 "nbformat_minor": 2
}
